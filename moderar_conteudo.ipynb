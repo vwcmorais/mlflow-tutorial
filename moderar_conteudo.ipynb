{
  "nbformat": 4,
  "nbformat_minor": 0,
  "metadata": {
    "colab": {
      "provenance": [],
      "toc_visible": true,
      "authorship_tag": "ABX9TyN5G+Rj56PCJabq0B65YX0K",
      "include_colab_link": true
    },
    "kernelspec": {
      "name": "python3",
      "display_name": "Python 3"
    },
    "language_info": {
      "name": "python"
    }
  },
  "cells": [
    {
      "cell_type": "markdown",
      "metadata": {
        "id": "view-in-github",
        "colab_type": "text"
      },
      "source": [
        "<a href=\"https://colab.research.google.com/github/vwcmorais/mlflow-tutorial/blob/main/moderar_conteudo.ipynb\" target=\"_parent\"><img src=\"https://colab.research.google.com/assets/colab-badge.svg\" alt=\"Open In Colab\"/></a>"
      ]
    },
    {
      "cell_type": "code",
      "execution_count": null,
      "metadata": {
        "id": "CB6ob2sP7qzT"
      },
      "outputs": [],
      "source": [
        "from openai import OpenAI\n",
        "from google.colab import userdata\n",
        "\n",
        "client = OpenAI(\n",
        "    api_key=userdata.get('OPENAI_API_KEY'),  # This is the default and can be omitted\n",
        ")\n"
      ]
    },
    {
      "cell_type": "code",
      "source": [
        "def moderar_conteudo(texto):\n",
        "    prompt = f\"\"\"\n",
        "    Analise o seguinte texto e determine se ele contém:\n",
        "    1. Linguagem ofensiva\n",
        "    2. Spam\n",
        "    3. Discurso de ódio\n",
        "    4. Conteúdo aceitável\n",
        "\n",
        "    Texto: {texto}\n",
        "    \"\"\"\n",
        "    chat_completion = client.chat.completions.create(\n",
        "        messages=[\n",
        "            {\n",
        "                \"role\": \"user\",\n",
        "                \"content\": prompt,\n",
        "                }\n",
        "        ],\n",
        "        model=\"gpt-4o\",\n",
        "    )\n",
        "    return chat_completion.choices[0].message.content"
      ],
      "metadata": {
        "id": "Wg7CT8hE71QM"
      },
      "execution_count": null,
      "outputs": []
    },
    {
      "cell_type": "code",
      "source": [
        "# Exemplo de uso\n",
        "texto_usuario = \"Esse site é horrível, e você é um idiota! Sua galinha!\"\n",
        "resultado = moderar_conteudo(texto_usuario)\n",
        "print(\"Resultado da moderação:\", resultado)"
      ],
      "metadata": {
        "colab": {
          "base_uri": "https://localhost:8080/"
        },
        "id": "tttnwaLS740v",
        "outputId": "be87c249-c632-431a-c4be-257d6d6762d4"
      },
      "execution_count": null,
      "outputs": [
        {
          "output_type": "stream",
          "name": "stdout",
          "text": [
            "ChatCompletion(id='chatcmpl-AUcXPbY0oKAhzCjfpEzEisbk76ONX', choices=[Choice(finish_reason='stop', index=0, logprobs=None, message=ChatCompletionMessage(content='Com base no texto fornecido, aqui está a análise:\\n\\n1. **Linguagem ofensiva**: Sim, o texto contém linguagem ofensiva. Termos como \"idiota\" e \"sua galinha\" são depreciativos e podem ser considerados insultos.\\n   \\n2. **Spam**: Não, o texto não parece ser spam. Ele não parece ter a intenção de promover ou divulgar conteúdo de forma repetitiva ou indesejada.\\n   \\n3. **Discurso de ódio**: Não, o texto não contém discurso de ódio. Embora use linguagem ofensiva, ele não aponta para um grupo específico com base em características como raça, religião, etnia, gênero, ou orientação sexual.\\n   \\n4. **Conteúdo aceitável**: Não, o conteúdo não é aceitável devido à presença de linguagem ofensiva.', refusal=None, role='assistant', audio=None, function_call=None, tool_calls=None))], created=1731861343, model='gpt-4o-2024-08-06', object='chat.completion', service_tier=None, system_fingerprint='fp_45cf54deae', usage=CompletionUsage(completion_tokens=170, prompt_tokens=75, total_tokens=245, completion_tokens_details=CompletionTokensDetails(accepted_prediction_tokens=0, audio_tokens=0, reasoning_tokens=0, rejected_prediction_tokens=0), prompt_tokens_details=PromptTokensDetails(audio_tokens=0, cached_tokens=0)))\n",
            "Resultado da moderação: Com base no texto fornecido, aqui está a análise:\n",
            "\n",
            "1. **Linguagem ofensiva**: Sim, o texto contém linguagem ofensiva. Termos como \"idiota\" e \"sua galinha\" são depreciativos e podem ser considerados insultos.\n",
            "   \n",
            "2. **Spam**: Não, o texto não parece ser spam. Ele não parece ter a intenção de promover ou divulgar conteúdo de forma repetitiva ou indesejada.\n",
            "   \n",
            "3. **Discurso de ódio**: Não, o texto não contém discurso de ódio. Embora use linguagem ofensiva, ele não aponta para um grupo específico com base em características como raça, religião, etnia, gênero, ou orientação sexual.\n",
            "   \n",
            "4. **Conteúdo aceitável**: Não, o conteúdo não é aceitável devido à presença de linguagem ofensiva.\n"
          ]
        }
      ]
    }
  ]
}